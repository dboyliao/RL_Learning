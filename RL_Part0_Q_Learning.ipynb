{
 "cells": [
  {
   "cell_type": "markdown",
   "metadata": {},
   "source": [
    "- [Blog - Part 1](https://medium.com/emergent-future/simple-reinforcement-learning-with-tensorflow-part-0-q-learning-with-tables-and-neural-networks-d195264329d0)"
   ]
  },
  {
   "cell_type": "code",
   "execution_count": 1,
   "metadata": {
    "collapsed": true
   },
   "outputs": [],
   "source": [
    "%matplotlib inline\n",
    "import numpy as np\n",
    "import gym\n",
    "import matplotlib.pyplot as plt\n",
    "import pandas as pd"
   ]
  },
  {
   "cell_type": "code",
   "execution_count": 2,
   "metadata": {},
   "outputs": [
    {
     "name": "stderr",
     "output_type": "stream",
     "text": [
      "[2017-07-09 11:32:11,701] Making new env: FrozenLake-v0\n"
     ]
    }
   ],
   "source": [
    "env = gym.make(\"FrozenLake-v0\")"
   ]
  },
  {
   "cell_type": "code",
   "execution_count": 3,
   "metadata": {},
   "outputs": [
    {
     "data": {
      "text/plain": [
       "16"
      ]
     },
     "execution_count": 3,
     "metadata": {},
     "output_type": "execute_result"
    }
   ],
   "source": [
    "env.observation_space.n # the number of states"
   ]
  },
  {
   "cell_type": "code",
   "execution_count": 4,
   "metadata": {},
   "outputs": [
    {
     "data": {
      "text/plain": [
       "4"
      ]
     },
     "execution_count": 4,
     "metadata": {},
     "output_type": "execute_result"
    }
   ],
   "source": [
    "env.action_space.n"
   ]
  },
  {
   "cell_type": "code",
   "execution_count": 5,
   "metadata": {},
   "outputs": [
    {
     "name": "stdout",
     "output_type": "stream",
     "text": [
      "\n",
      "        randn(d0, d1, ..., dn)\n",
      "\n",
      "        Return a sample (or samples) from the \"standard normal\" distribution.\n",
      "\n",
      "        If positive, int_like or int-convertible arguments are provided,\n",
      "        `randn` generates an array of shape ``(d0, d1, ..., dn)``, filled\n",
      "        with random floats sampled from a univariate \"normal\" (Gaussian)\n",
      "        distribution of mean 0 and variance 1 (if any of the :math:`d_i` are\n",
      "        floats, they are first converted to integers by truncation). A single\n",
      "        float randomly sampled from the distribution is returned if no\n",
      "        argument is provided.\n",
      "\n",
      "        This is a convenience function.  If you want an interface that takes a\n",
      "        tuple as the first argument, use `numpy.random.standard_normal` instead.\n",
      "\n",
      "        Parameters\n",
      "        ----------\n",
      "        d0, d1, ..., dn : int, optional\n",
      "            The dimensions of the returned array, should be all positive.\n",
      "            If no argument is given a single Python float is returned.\n",
      "\n",
      "        Returns\n",
      "        -------\n",
      "        Z : ndarray or float\n",
      "            A ``(d0, d1, ..., dn)``-shaped array of floating-point samples from\n",
      "            the standard normal distribution, or a single such float if\n",
      "            no parameters were supplied.\n",
      "\n",
      "        See Also\n",
      "        --------\n",
      "        random.standard_normal : Similar, but takes a tuple as its argument.\n",
      "\n",
      "        Notes\n",
      "        -----\n",
      "        For random samples from :math:`N(\\mu, \\sigma^2)`, use:\n",
      "\n",
      "        ``sigma * np.random.randn(...) + mu``\n",
      "\n",
      "        Examples\n",
      "        --------\n",
      "        >>> np.random.randn()\n",
      "        2.1923875335537315 #random\n",
      "\n",
      "        Two-by-four array of samples from N(3, 6.25):\n",
      "\n",
      "        >>> 2.5 * np.random.randn(2, 4) + 3\n",
      "        array([[-4.49401501,  4.00950034, -1.81814867,  7.29718677],  #random\n",
      "               [ 0.39924804,  4.68456316,  4.99394529,  4.84057254]]) #random\n",
      "\n",
      "        \n"
     ]
    }
   ],
   "source": [
    "print(np.random.randn.__doc__)"
   ]
  },
  {
   "cell_type": "code",
   "execution_count": 6,
   "metadata": {},
   "outputs": [
    {
     "name": "stdout",
     "output_type": "stream",
     "text": [
      "Run one timestep of the environment's dynamics. When end of\n",
      "        episode is reached, you are responsible for calling `reset()`\n",
      "        to reset this environment's state.\n",
      "\n",
      "        Accepts an action and returns a tuple (observation, reward, done, info).\n",
      "\n",
      "        Args:\n",
      "            action (object): an action provided by the environment\n",
      "\n",
      "        Returns:\n",
      "            observation (object): agent's observation of the current environment\n",
      "            reward (float) : amount of reward returned after previous action\n",
      "            done (boolean): whether the episode has ended, in which case further step() calls will return undefined results\n",
      "            info (dict): contains auxiliary diagnostic information (helpful for debugging, and sometimes learning)\n",
      "        \n"
     ]
    }
   ],
   "source": [
    "print(env.step.__doc__)"
   ]
  },
  {
   "cell_type": "code",
   "execution_count": 24,
   "metadata": {
    "collapsed": true
   },
   "outputs": [],
   "source": [
    "learn_rate = 0.85\n",
    "disc_rate = 0.99\n",
    "num_episodes = 2000\n",
    "iters_per_episode = 100\n",
    "failure_penalty = -0.01\n",
    "\n",
    "Q = np.zeros((env.observation_space.n, env.action_space.n))\n",
    "rewards = []\n",
    "sucesses = []\n",
    "for episode in range(num_episodes):\n",
    "    s_current = env.reset()\n",
    "    acc_reward = 0\n",
    "    is_doomed = False\n",
    "    \n",
    "    for _ in range(iters_per_episode):\n",
    "        # here we decrease the noise for later episodes in order to have a converge result\n",
    "        action = np.argmax(Q[s_current] + np.random.randn(1, env.action_space.n)*(1/(episode+1)))\n",
    "        s_next, reward, is_doomed, _ = env.step(action)\n",
    "        reward = is_doomed and [failure_penalty, reward][reward > 0] or reward\n",
    "        Q[s_current, action] = Q[s_current, action] + learn_rate*(reward + disc_rate*np.max(Q[s_next] - Q[s_current, action]))\n",
    "        acc_reward += reward\n",
    "        s_current = s_next\n",
    "        if is_doomed:\n",
    "            sucesses.append([0, 1][reward > 0])\n",
    "            break\n",
    "    rewards.append(acc_reward)"
   ]
  },
  {
   "cell_type": "code",
   "execution_count": 25,
   "metadata": {
    "scrolled": true
   },
   "outputs": [
    {
     "name": "stdout",
     "output_type": "stream",
     "text": [
      "Average rewards (over episodes): 0.505605\n",
      "Q-table:\n",
      " [[ 0.00768452  0.05461425  0.84505916  0.00595725]\n",
      " [-0.00909722 -0.00645134 -0.00960541  0.84796636]\n",
      " [ 0.00980996  0.02044553  0.00436258  0.82879651]\n",
      " [-0.00975357 -0.00632744 -0.00871354  0.8190519 ]\n",
      " [ 0.93473056 -0.00684189 -0.00712975 -0.00915799]\n",
      " [ 0.          0.          0.          0.        ]\n",
      " [-0.00971441 -0.0101      0.21078305 -0.01009958]\n",
      " [ 0.          0.          0.          0.        ]\n",
      " [-0.00967191 -0.0098176  -0.0097059   0.94322652]\n",
      " [-0.00984725  0.97541786 -0.00528944 -0.00629492]\n",
      " [ 1.00378866 -0.00955142 -0.00954519 -0.00933961]\n",
      " [ 0.          0.          0.          0.        ]\n",
      " [ 0.          0.          0.          0.        ]\n",
      " [-0.00984725 -0.00646972  1.00129377 -0.00590218]\n",
      " [ 0.          1.0094511   0.          0.        ]\n",
      " [ 0.          0.          0.          0.        ]]\n"
     ]
    }
   ],
   "source": [
    "print(\"Average rewards (over episodes): {:02f}\".format(sum(rewards)/num_episodes))\n",
    "print(\"Q-table:\\n\", Q)"
   ]
  },
  {
   "cell_type": "code",
   "execution_count": 26,
   "metadata": {},
   "outputs": [
    {
     "data": {
      "text/plain": [
       "[<matplotlib.lines.Line2D at 0x11701d198>]"
      ]
     },
     "execution_count": 26,
     "metadata": {},
     "output_type": "execute_result"
    },
    {
     "data": {
      "image/png": "[encoded data removed]",
      "text/plain": [
       "<matplotlib.figure.Figure at 0x116f1d630>"
      ]
     },
     "metadata": {},
     "output_type": "display_data"
    }
   ],
   "source": [
    "plt.plot(pd.Series(rewards).rolling(window=100).mean())"
   ]
  },
  {
   "cell_type": "code",
   "execution_count": 27,
   "metadata": {},
   "outputs": [
    {
     "data": {
      "text/plain": [
       "[<matplotlib.lines.Line2D at 0x11710edd8>]"
      ]
     },
     "execution_count": 27,
     "metadata": {},
     "output_type": "execute_result"
    },
    {
     "data": {
      "image/png": "[encoded data removed]",
      "text/plain": [
       "<matplotlib.figure.Figure at 0x116f1d390>"
      ]
     },
     "metadata": {},
     "output_type": "display_data"
    }
   ],
   "source": [
    "plt.plot(pd.Series(sucesses).rolling(window=100).mean())"
   ]
  },
  {
   "cell_type": "markdown",
   "metadata": {},
   "source": [
    "## Q-Learning with NN\n",
    "\n",
    "key idea: Replace table with a neural network which takes state as input and produce a Q-value.\n",
    "\n",
    "$$\n",
    "Loss = \\sum(Q_{target} - Q)^2\n",
    "$$"
   ]
  },
  {
   "cell_type": "code",
   "execution_count": 11,
   "metadata": {
    "collapsed": true
   },
   "outputs": [],
   "source": [
    "import tensorflow as tf"
   ]
  },
  {
   "cell_type": "markdown",
   "metadata": {},
   "source": [
    "Implementing NN"
   ]
  },
  {
   "cell_type": "code",
   "execution_count": 12,
   "metadata": {
    "collapsed": true
   },
   "outputs": [],
   "source": [
    "tf.reset_default_graph()"
   ]
  },
  {
   "cell_type": "code",
   "execution_count": 13,
   "metadata": {
    "collapsed": true
   },
   "outputs": [],
   "source": [
    "input_layer = tf.placeholder(shape=[1, 16], dtype=tf.float32)\n",
    "W = tf.Variable(tf.random_uniform([16, 4], 0, 0.01))\n",
    "Q_out = tf.matmul(input_layer, W)\n",
    "prediction = tf.argmax(Q_out, axis=1)\n",
    "\n",
    "Q_target = tf.placeholder(shape=[1, 4], dtype=tf.float32)\n",
    "loss = tf.reduce_sum(tf.square(Q_target - Q_out))\n",
    "train = tf.train.GradientDescentOptimizer(0.1).minimize(loss)"
   ]
  },
  {
   "cell_type": "markdown",
   "metadata": {},
   "source": [
    "Training NN"
   ]
  },
  {
   "cell_type": "code",
   "execution_count": 14,
   "metadata": {},
   "outputs": [
    {
     "name": "stdout",
     "output_type": "stream",
     "text": [
      "All variables initialized\n"
     ]
    }
   ],
   "source": [
    "disc_rate = 0.99\n",
    "num_episodes = 2000\n",
    "iters_per_episode = 100\n",
    "stop_iterations = []\n",
    "acc_rewards = []\n",
    "err_rates = []\n",
    "\n",
    "with tf.Session() as sess:\n",
    "    tf.global_variables_initializer().run()\n",
    "    print(\"All variables initialized\")\n",
    "    \n",
    "    for episode in range(num_episodes):\n",
    "        s_current = env.reset()\n",
    "        is_doomed = False\n",
    "        acc_reward = 0\n",
    "        # If you play with err_rate a bit, \n",
    "        # you'll find out that this is very important for the training of the Q-learning NN.\n",
    "        # If err_rate goes down too quickly or with small initial value, \n",
    "        # your NN will not learn much about the Q-table\n",
    "        # since it stuck in local greedy strategy (no exploration)\n",
    "        err_rate = 1.0/((episode/50.0) + 10.0)\n",
    "        \n",
    "        for iteration in range(iters_per_episode):\n",
    "            action, Q_predict = sess.run([prediction, Q_out], \n",
    "                                         feed_dict={input_layer:np.identity(env.observation_space.n)[s_current:s_current+1]})\n",
    "            action = action[0]\n",
    "            if np.random.rand(1) < err_rate:\n",
    "                action = env.action_space.sample()\n",
    "            s_next, reward, is_doomed, _ = env.step(action)\n",
    "            \n",
    "            Q_next = sess.run(Q_out, feed_dict={input_layer:np.identity(env.observation_space.n)[s_next:s_next+1]})\n",
    "            max_Q_next = np.max(Q_next)\n",
    "            Q_predict[0, action] = reward + disc_rate*max_Q_next\n",
    "            _ = sess.run([train], \n",
    "                         feed_dict={input_layer:np.identity(env.observation_space.n)[s_current:s_current+1], \n",
    "                                    Q_target:Q_predict})\n",
    "            acc_reward += reward\n",
    "            s_current = s_next\n",
    "            if is_doomed:\n",
    "                err_rates.append(err_rate)\n",
    "                break\n",
    "        stop_iterations.append(iteration)\n",
    "        acc_rewards.append(acc_reward)"
   ]
  },
  {
   "cell_type": "code",
   "execution_count": 15,
   "metadata": {},
   "outputs": [
    {
     "name": "stdout",
     "output_type": "stream",
     "text": [
      "percentage of successful episodes: 0.0695%\n"
     ]
    }
   ],
   "source": [
    "print(\"percentage of successful episodes: {}%\".format(sum(acc_rewards)/num_episodes))"
   ]
  },
  {
   "cell_type": "code",
   "execution_count": 16,
   "metadata": {},
   "outputs": [
    {
     "data": {
      "text/plain": [
       "[<matplotlib.lines.Line2D at 0x111745080>]"
      ]
     },
     "execution_count": 16,
     "metadata": {},
     "output_type": "execute_result"
    },
    {
     "data": {
      "image/png": "[encoded data removed]",
      "text/plain": [
       "<matplotlib.figure.Figure at 0x1116a2ba8>"
      ]
     },
     "metadata": {},
     "output_type": "display_data"
    }
   ],
   "source": [
    "plt.plot(err_rates)"
   ]
  },
  {
   "cell_type": "code",
   "execution_count": 17,
   "metadata": {},
   "outputs": [
    {
     "data": {
      "text/plain": [
       "<matplotlib.legend.Legend at 0x1117ebef0>"
      ]
     },
     "execution_count": 17,
     "metadata": {},
     "output_type": "execute_result"
    },
    {
     "data": {
      "image/png": "[encoded data removed]",
      "text/plain": [
       "<matplotlib.figure.Figure at 0x111745c50>"
      ]
     },
     "metadata": {},
     "output_type": "display_data"
    }
   ],
   "source": [
    "# mean accumulated awards\n",
    "plt.title(\"Rewards (window size 100)\")\n",
    "line_mean, =plt.plot(pd.Series(acc_rewards).rolling(window=100, center=False).mean(), '-')\n",
    "line_std, = plt.plot(pd.Series(acc_rewards).rolling(window=100).std(), '-y')\n",
    "plt.legend([line_mean, line_std], [\"mean\", \"std\"])"
   ]
  },
  {
   "cell_type": "code",
   "execution_count": 18,
   "metadata": {
    "scrolled": true
   },
   "outputs": [
    {
     "data": {
      "text/plain": [
       "[<matplotlib.lines.Line2D at 0x111999e80>]"
      ]
     },
     "execution_count": 18,
     "metadata": {},
     "output_type": "execute_result"
    },
    {
     "data": {
      "image/png": "[encoded data removed]",
      "text/plain": [
       "<matplotlib.figure.Figure at 0x11198bd68>"
      ]
     },
     "metadata": {},
     "output_type": "display_data"
    }
   ],
   "source": [
    "plt.plot(pd.Series(stop_iterations).rolling(window=100).mean())"
   ]
  },
  {
   "cell_type": "code",
   "execution_count": null,
   "metadata": {
    "collapsed": true
   },
   "outputs": [],
   "source": []
  }
 ],
 "metadata": {
  "kernelspec": {
   "display_name": "Python 3",
   "language": "python",
   "name": "python3"
  },
  "language_info": {
   "codemirror_mode": {
    "name": "ipython",
    "version": 3
   },
   "file_extension": ".py",
   "mimetype": "text/x-python",
   "name": "python",
   "nbconvert_exporter": "python",
   "pygments_lexer": "ipython3",
   "version": "3.6.1"
  }
 },
 "nbformat": 4,
 "nbformat_minor": 2
}
