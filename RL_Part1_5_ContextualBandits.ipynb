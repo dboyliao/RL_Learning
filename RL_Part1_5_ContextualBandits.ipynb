{
 "cells": [
  {
   "cell_type": "markdown",
   "metadata": {
    "deletable": true,
    "editable": true
   },
   "source": [
    "- [Blog](https://medium.com/emergent-future/simple-reinforcement-learning-with-tensorflow-part-1-5-contextual-bandits-bff01d1aad9c)\n",
    "- [Policy Gradient](http://www.scholarpedia.org/article/Policy_gradient_methods)"
   ]
  },
  {
   "cell_type": "code",
   "execution_count": 1,
   "metadata": {
    "collapsed": true,
    "deletable": true,
    "editable": true
   },
   "outputs": [],
   "source": [
    "%matplotlib inline\n",
    "import numpy as np\n",
    "import tensorflow as tf\n",
    "import tensorflow.contrib.slim as slim"
   ]
  },
  {
   "cell_type": "code",
   "execution_count": 22,
   "metadata": {
    "collapsed": true,
    "deletable": true,
    "editable": true
   },
   "outputs": [],
   "source": [
    "class ContextualBandit(object):\n",
    "    \n",
    "    def __init__(self):\n",
    "        self.state = 0\n",
    "        # the best choise: (the lower, the better)\n",
    "        #     slot 1: 4\n",
    "        #     slot 2: 2\n",
    "        #     slot 3: 1\n",
    "        self.bandits = np.array([[0.2, 0,-0.0,  -5],\n",
    "                                 [0.1,-5,   1,0.25],\n",
    "                                 [ -5, 5,   5,   5]])\n",
    "        self.num_bandits = self.bandits.shape[0]\n",
    "        self.num_actions = self.bandits.shape[1]\n",
    "    \n",
    "    def randomBandit(self):\n",
    "        self.state = np.random.randint(0, self.num_bandits)\n",
    "        return self.state\n",
    "    \n",
    "    def pullArm(self, action, noise=0.0):\n",
    "        bandit = self.bandits[self.state, action]\n",
    "        result = np.random.randn(1)\n",
    "        if (result+noise*np.random.rand(1)[0]) > bandit:\n",
    "            return 1\n",
    "        else:\n",
    "            return -1"
   ]
  },
  {
   "cell_type": "code",
   "execution_count": 23,
   "metadata": {
    "collapsed": true,
    "deletable": true,
    "editable": true
   },
   "outputs": [],
   "source": [
    "class Agent(object):\n",
    "    \n",
    "    def __init__(self, num_states, num_actions, learn_rate=0.001):\n",
    "        self.num_states = num_states\n",
    "        self.num_actions = num_actions\n",
    "        self.learn_rate = learn_rate\n",
    "        \n",
    "        # buidling graph\n",
    "        self.state_in = tf.placeholder(shape=[1], dtype=tf.int32)\n",
    "        one_hot_in_layer = tf.one_hot(self.state_in, self.num_states)\n",
    "        # fully_connected conceptually is the implementation of following \n",
    "        # layer structure:\n",
    "        #   output_layer = activation(input_layer*kernel) + bias\n",
    "        # the source code: \n",
    "        #   https://github.com/tensorflow/tensorflow/blob/b07791f6e9b306937eb58f7bb6c3300cd26583af/tensorflow/contrib/layers/python/layers/layers.py\n",
    "        output = slim.fully_connected(one_hot_in_layer, \n",
    "                                      num_actions,\n",
    "                                      biases_initializer=None,\n",
    "                                      activation_fn=tf.nn.sigmoid,\n",
    "                                      weights_initializer=tf.ones_initializer())\n",
    "        self.output = tf.reshape(output, [-1])\n",
    "        self.chosen_action = tf.argmax(self.output, 0)\n",
    "        \n",
    "        self.reward_holder = tf.placeholder(shape=[1], dtype=tf.float32)\n",
    "        self.action_holder = tf.placeholder(shape=[1], dtype=tf.int32)\n",
    "        select_action = self.action_holder[0]\n",
    "        self.responsible_weight = self.output[select_action]\n",
    "        self.loss = -(tf.log(self.responsible_weight)*self.reward_holder)\n",
    "        \n",
    "        optimizer = tf.train.GradientDescentOptimizer(learning_rate=self.learn_rate)\n",
    "        self.train_op = optimizer.minimize(self.loss)"
   ]
  },
  {
   "cell_type": "code",
   "execution_count": 24,
   "metadata": {
    "collapsed": false
   },
   "outputs": [],
   "source": [
    "tf.reset_default_graph()\n",
    "\n",
    "cBandit = ContextualBandit()\n",
    "agent = Agent(num_states=cBandit.num_bandits, num_actions=cBandit.num_actions)\n",
    "weight = tf.trainable_variables()[0]\n",
    "\n",
    "num_episodes = 10000\n",
    "total_rewards = np.zeros(cBandit.bandits.shape)\n",
    "err_rate = 0.01"
   ]
  },
  {
   "cell_type": "code",
   "execution_count": 25,
   "metadata": {
    "collapsed": false
   },
   "outputs": [
    {
     "name": "stdout",
     "output_type": "stream",
     "text": [
      "Mean reward for each bandits [ 0.    0.    0.25]\n",
      "Mean reward for each bandits [ 29.75  41.5   40.5 ]\n",
      "Mean reward for each bandits [ 67.    86.    82.25]\n",
      "Mean reward for each bandits [ 109.5   125.75  123.  ]\n",
      "Mean reward for each bandits [ 152.5   164.    165.75]\n",
      "Mean reward for each bandits [ 193.    203.    208.25]\n",
      "Mean reward for each bandits [ 228.75  247.75  251.25]\n",
      "Mean reward for each bandits [ 268.75  290.75  291.25]\n",
      "Mean reward for each bandits [ 307.75  332.5   333.5 ]\n",
      "Mean reward for each bandits [ 348.5   373.5   376.25]\n",
      "Mean reward for each bandits [ 391.    413.75  417.  ]\n",
      "Mean reward for each bandits [ 432.5   455.75  456.  ]\n",
      "Mean reward for each bandits [ 480.    489.    498.75]\n",
      "Mean reward for each bandits [ 520.5   530.75  541.  ]\n",
      "Mean reward for each bandits [ 564.    574.    578.75]\n",
      "Mean reward for each bandits [ 605.75  614.75  619.75]\n",
      "Mean reward for each bandits [ 646.5   655.75  662.  ]\n",
      "Mean reward for each bandits [ 686.5   696.75  705.  ]\n",
      "Mean reward for each bandits [ 732.    737.5   741.75]\n",
      "Mean reward for each bandits [ 772.25  782.5   781.5 ]\n",
      "\n",
      "The agent thinks action the best action for bandit 0 is 4\n",
      "Correct!\n",
      "The agent thinks action the best action for bandit 1 is 2\n",
      "Correct!\n",
      "The agent thinks action the best action for bandit 2 is 1\n",
      "Correct!\n"
     ]
    }
   ],
   "source": [
    "with tf.Session() as sess:\n",
    "    tf.global_variables_initializer().run()\n",
    "    \n",
    "    for i in range(num_episodes):\n",
    "        current_state = cBandit.randomBandit()\n",
    "        \n",
    "        if np.random.rand(1) < err_rate:\n",
    "            action = np.random.randint(cBandit.num_actions)\n",
    "        else:\n",
    "            action = sess.run(agent.chosen_action,\n",
    "                              feed_dict={agent.state_in:[current_state]})\n",
    "        \n",
    "        reward = cBandit.pullArm(action, noise=1.0/(i+10))\n",
    "        \n",
    "        feed_dict = {agent.reward_holder:[reward], \n",
    "                     agent.action_holder:[action],\n",
    "                     agent.state_in:[current_state]}\n",
    "        _, w = sess.run([agent.train_op, weight], feed_dict=feed_dict)\n",
    "        total_rewards[current_state, action] += reward\n",
    "        if i % 500 == 0:\n",
    "            print(\"Mean reward for each bandits {}\".format(np.mean(total_rewards, axis=-1)))\n",
    "print()\n",
    "for bandit in range(cBandit.num_bandits):\n",
    "    print(\"The agent thinks action the best action for bandit {} is {}\".format(bandit, np.argmax(w[bandit])+1))\n",
    "    if np.argmax(w[bandit]) == np.argmin(cBandit.bandits[bandit]):\n",
    "        print(\"Correct!\")\n",
    "    else:\n",
    "        print(\"Wrong...\")"
   ]
  },
  {
   "cell_type": "code",
   "execution_count": null,
   "metadata": {
    "collapsed": true
   },
   "outputs": [],
   "source": []
  }
 ],
 "metadata": {
  "kernelspec": {
   "display_name": "Python 3",
   "language": "python",
   "name": "python3"
  },
  "language_info": {
   "codemirror_mode": {
    "name": "ipython",
    "version": 3
   },
   "file_extension": ".py",
   "mimetype": "text/x-python",
   "name": "python",
   "nbconvert_exporter": "python",
   "pygments_lexer": "ipython3",
   "version": "3.6.1"
  }
 },
 "nbformat": 4,
 "nbformat_minor": 2
}
